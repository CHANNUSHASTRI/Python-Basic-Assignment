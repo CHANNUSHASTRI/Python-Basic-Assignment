{
 "cells": [
  {
   "cell_type": "code",
   "execution_count": 1,
   "id": "d1a09591-4b03-42b1-8cdf-d60455f922e6",
   "metadata": {},
   "outputs": [],
   "source": [
    "#Python Basic Assignment"
   ]
  },
  {
   "cell_type": "code",
   "execution_count": 2,
   "id": "bbb7dac5-0d45-4984-afb6-76a10372621d",
   "metadata": {},
   "outputs": [],
   "source": [
    "#Assignment 1"
   ]
  },
  {
   "cell_type": "code",
   "execution_count": null,
   "id": "99c2175a-d62f-4dfa-aaa0-6440a9dc630b",
   "metadata": {},
   "outputs": [],
   "source": [
    "#Q1 Explain the key feature of python that make it a popular choice for peogramming.\n",
    "\n",
    "#Esay to read and write: Python's code have regular english.\n",
    "#Flexible: Python can used for almost anthing,from buildwebsitesns to analyzing data,it supports different styles of programming,\n",
    "#so yiu can use it in your own way.\n",
    "#Lot of tool: Python has manypre-made tool that help you do complex tasks without having to build everthing from scratch.\n",
    "#helpfull community: There is a huge community pf python users who shares theirknowledgeçreat helpfull tutorials.\n",
    "#Can talk other languages: Python can work with other programming languages,like-c or c++.\n",
    "#Great for bigginers.\n",
    "#Automic type handling: Python automatically figures out what kind of data you're using (like numbers or text).\n",
    "#Run code instantly: Python lets you test your code as you write it withoutneeding to complite it first.\n",
    "#Popular for data science.\n",
    "#(In short; Python is popular because it's esay to learn,versatile,and has a lot of support,\n",
    "#making it a great choice for many different types of programming projects)."
   ]
  },
  {
   "cell_type": "code",
   "execution_count": 3,
   "id": "26e02901-3c39-4223-b751-2364c959dda4",
   "metadata": {},
   "outputs": [],
   "source": [
    "#Q2 Describe the role of predefined key words in python and provide examples of how they are used in program.\n",
    "\n",
    "#Key words are reserved words in opython that have special meaning and cannot be used as identifiers\n",
    "#(variable names,function names,etc).\n",
    "#Example of keywords include if, else, while, for, def, class, import, try, except, return, true, false, none,\n",
    "#keywords are case-sensitive and cannot be redefined or overridden within a python program."
   ]
  },
  {
   "cell_type": "code",
   "execution_count": 15,
   "id": "20dc108b-38a7-4119-901f-bf31d8d65c64",
   "metadata": {},
   "outputs": [
    {
     "name": "stdout",
     "output_type": "stream",
     "text": [
      "x is greater than 5\n"
     ]
    }
   ],
   "source": [
    "# if statement\n",
    "\n",
    "x=16\n",
    "if x>5:\n",
    "    print ('x is greater than 5')\n",
    "    "
   ]
  },
  {
   "cell_type": "code",
   "execution_count": 20,
   "id": "b76a0b55-af55-4830-a2a6-7491cfe7cad5",
   "metadata": {},
   "outputs": [
    {
     "name": "stdout",
     "output_type": "stream",
     "text": [
      "i will play indoor games\n"
     ]
    }
   ],
   "source": [
    "# if else statement\n",
    "\n",
    "weather = 'rainy'\n",
    "if weather == 'sunny':\n",
    "    print('i will not play football')\n",
    "else:\n",
    "        print('i will play indoor games')\n"
   ]
  },
  {
   "cell_type": "code",
   "execution_count": 57,
   "id": "9c1145c4-ae4a-43ca-8308-92294f140f91",
   "metadata": {},
   "outputs": [
    {
     "name": "stdout",
     "output_type": "stream",
     "text": [
      "grade A\n"
     ]
    }
   ],
   "source": [
    "# if-elif-else statement\n",
    "\n",
    "score=95\n",
    "if score>=90:\n",
    "    print ('grade A') \n",
    "elif(80<=score<90):\n",
    "        print('grade B')\n",
    "elif(70<=score<80):\n",
    "            print('grade C')\n",
    "else:\n",
    "                print('grade D')\n",
    "                \n"
   ]
  },
  {
   "cell_type": "code",
   "execution_count": 56,
   "id": "3e4b47ec-d8fe-43d7-9506-0bba7f2bfecd",
   "metadata": {},
   "outputs": [
    {
     "name": "stdout",
     "output_type": "stream",
     "text": [
      "x is only greater than 5 but y is less than 5\n"
     ]
    }
   ],
   "source": [
    "# nested if else statement\n",
    "\n",
    "x=9\n",
    "y=1\n",
    "if x >5:\n",
    "    if y >5:\n",
    "        print('both is greater than 5')\n",
    "    else:\n",
    "        print('x is only greater than 5 but y is less than 5')\n",
    "else:\n",
    "    print('x is not greater than 5')\n",
    "        "
   ]
  },
  {
   "cell_type": "code",
   "execution_count": 70,
   "id": "0963080b-f247-4d44-bcce-85b5cdb38e55",
   "metadata": {},
   "outputs": [
    {
     "name": "stdout",
     "output_type": "stream",
     "text": [
      "1\n",
      "2\n",
      "3\n",
      "4\n",
      "this will be executed when the while is run successfully without any break\n"
     ]
    }
   ],
   "source": [
    "# while loop statement\n",
    "\n",
    "n=5\n",
    "i=1\n",
    "while i<n:\n",
    "    print(i)\n",
    "    i=i+1\n",
    "else:\n",
    "        print('this will be executed when the while is run successfully without any break')\n",
    "    "
   ]
  },
  {
   "cell_type": "code",
   "execution_count": 71,
   "id": "5a2447db-1766-4c0a-af83-ca461283c4fa",
   "metadata": {},
   "outputs": [
    {
     "name": "stdout",
     "output_type": "stream",
     "text": [
      "c\n",
      "h\n",
      "a\n",
      "n\n",
      "n\n",
      "a\n",
      "v\n",
      "e\n",
      "e\n",
      "r\n",
      "a\n"
     ]
    }
   ],
   "source": [
    "# for loop statement\n",
    "\n",
    "a='channaveera'\n",
    "for i in a :\n",
    "    print(i)"
   ]
  },
  {
   "cell_type": "code",
   "execution_count": null,
   "id": "ab906674-c88c-45c2-a18f-77ec7b7be733",
   "metadata": {},
   "outputs": [],
   "source": [
    "#Q3 compare and contrast mutable objects in python with example.\n",
    "\n",
    "#In oython,objects can be either changeable or un changeable.\n",
    "#Mutable objects like  list,tuples and strings.\n",
    "#mutablity affects how objects are stored and manipulated in memory,performance,usage and concurrency in python program,\n"
   ]
  },
  {
   "cell_type": "code",
   "execution_count": 76,
   "id": "423d357a-42a6-4eaa-9af3-0ef9506a03da",
   "metadata": {},
   "outputs": [
    {
     "name": "stdout",
     "output_type": "stream",
     "text": [
      "[1, 2, 3, 9, 'arun']\n"
     ]
    }
   ],
   "source": [
    "# Mutable example\n",
    "\n",
    "letter=[1,2,3,9,'Channu']\n",
    "letter[4]= 'arun'\n",
    "print(letter)\n",
    "        "
   ]
  },
  {
   "cell_type": "code",
   "execution_count": 77,
   "id": "9df7b7a0-9bcd-467d-ac57-dd24791864e9",
   "metadata": {},
   "outputs": [
    {
     "ename": "TypeError",
     "evalue": "'str' object does not support item assignment",
     "output_type": "error",
     "traceback": [
      "\u001b[0;31m---------------------------------------------------------------------------\u001b[0m",
      "\u001b[0;31mTypeError\u001b[0m                                 Traceback (most recent call last)",
      "Cell \u001b[0;32mIn[77], line 4\u001b[0m\n\u001b[1;32m      1\u001b[0m \u001b[38;5;66;03m# Immutable example cnt be changed\u001b[39;00m\n\u001b[1;32m      3\u001b[0m letter\u001b[38;5;241m=\u001b[39m\u001b[38;5;124m'\u001b[39m\u001b[38;5;124mcreazy\u001b[39m\u001b[38;5;124m'\u001b[39m\n\u001b[0;32m----> 4\u001b[0m \u001b[43mletter\u001b[49m\u001b[43m[\u001b[49m\u001b[38;5;241;43m2\u001b[39;49m\u001b[43m]\u001b[49m\u001b[38;5;241m=\u001b[39m\u001b[38;5;124m'\u001b[39m\u001b[38;5;124mn\u001b[39m\u001b[38;5;124m'\u001b[39m\n",
      "\u001b[0;31mTypeError\u001b[0m: 'str' object does not support item assignment"
     ]
    }
   ],
   "source": [
    "# Immutable example cnt be changed\n",
    "\n",
    "letter='creazy'\n",
    "letter[2]='n'"
   ]
  },
  {
   "cell_type": "code",
   "execution_count": 78,
   "id": "774c7698-8997-40aa-9a0a-456485cd4feb",
   "metadata": {},
   "outputs": [],
   "source": [
    "#Q4 discuss the different types op operators in python and provied examples of hpw they are used.\n",
    "\n",
    "#Arithmetic operators(+,-,*,/)\n",
    "#Comparison opertors (==,!=,<,>)\n",
    "#logical operators(and,or,not)\n",
    "#Assignment operators(=,+=,-=,*=,/=)\n"
   ]
  },
  {
   "cell_type": "code",
   "execution_count": 80,
   "id": "4353f244-7e3a-435a-b96e-81925d0d5412",
   "metadata": {},
   "outputs": [
    {
     "name": "stdout",
     "output_type": "stream",
     "text": [
      "13\n",
      "30\n",
      "7\n",
      "3.3333333333333335\n",
      "3\n"
     ]
    }
   ],
   "source": [
    "#airthmetic operators\n",
    "\n",
    "a=10\n",
    "b=3\n",
    "print(a+b)\n",
    "print(a*b)\n",
    "print(a-b)\n",
    "print(a/b)\n",
    "print(a//b)"
   ]
  },
  {
   "cell_type": "code",
   "execution_count": 81,
   "id": "02cf4859-3adc-4887-b767-674178fa4b23",
   "metadata": {},
   "outputs": [
    {
     "name": "stdout",
     "output_type": "stream",
     "text": [
      "True\n",
      "False\n",
      "False\n",
      "False\n",
      "True\n",
      "True\n"
     ]
    }
   ],
   "source": [
    "#comparison operator examples\n",
    "c=2\n",
    "d=2\n",
    "print(c==d)\n",
    "print(c!=d)\n",
    "print(c>d)\n",
    "print(c<d)\n",
    "print(c>=d)\n",
    "print(c<=d)"
   ]
  },
  {
   "cell_type": "code",
   "execution_count": 82,
   "id": "68f3e15a-b90b-4fc5-86ea-f0e2bcb3c70d",
   "metadata": {},
   "outputs": [
    {
     "name": "stdout",
     "output_type": "stream",
     "text": [
      "False\n"
     ]
    }
   ],
   "source": [
    "#logical operator\n",
    "\n",
    "a=7\n",
    "b=10\n",
    "c=a>b and b<a\n",
    "print(c)"
   ]
  },
  {
   "cell_type": "code",
   "execution_count": 83,
   "id": "3b876bea-de6d-4e58-9499-5894de178aca",
   "metadata": {},
   "outputs": [
    {
     "name": "stdout",
     "output_type": "stream",
     "text": [
      "True\n"
     ]
    }
   ],
   "source": [
    "#logical operator\n",
    "\n",
    "a=7\n",
    "b=10\n",
    "c=a<b and b>a\n",
    "print(c)"
   ]
  },
  {
   "cell_type": "code",
   "execution_count": 85,
   "id": "85249e29-1ddf-4b70-9249-b3f5bdeb8521",
   "metadata": {},
   "outputs": [
    {
     "name": "stdout",
     "output_type": "stream",
     "text": [
      "0\n",
      "15\n",
      "15\n",
      "-6\n",
      "20\n",
      "1\n"
     ]
    }
   ],
   "source": [
    "#bitwise operators\n",
    "\n",
    "a=5\n",
    "b=10\n",
    "print(a&b)\n",
    "print(a|b)\n",
    "print(a^b)\n",
    "print(~a)\n",
    "print(a<<2)\n",
    "print(a>>2)"
   ]
  },
  {
   "cell_type": "code",
   "execution_count": 94,
   "id": "fcd2dede-7c19-4bdb-8cc0-9ab39be0e221",
   "metadata": {},
   "outputs": [
    {
     "name": "stdout",
     "output_type": "stream",
     "text": [
      "7\n",
      "4\n",
      "4\n",
      "1.0\n",
      "0\n",
      "1.0\n"
     ]
    }
   ],
   "source": [
    "#Assignment operaions\n",
    "\n",
    "num=2\n",
    "num += 5\n",
    "print(num)\n",
    "num -= 3\n",
    "print(num)\n",
    "nub *= 2\n",
    "print(num)\n",
    "num /= 4\n",
    "print(num)\n",
    "nub %= 2\n",
    "print(nub)\n",
    "num **= 3\n",
    "print(num)"
   ]
  },
  {
   "cell_type": "code",
   "execution_count": 95,
   "id": "88f8d2fc-a921-4f48-ac70-4613b98ca2dc",
   "metadata": {},
   "outputs": [
    {
     "name": "stdout",
     "output_type": "stream",
     "text": [
      "False\n",
      "False\n",
      "True\n",
      "True\n"
     ]
    }
   ],
   "source": [
    "#identity operations\n",
    "\n",
    "arun=22\n",
    "vinay=25\n",
    "print(arun is vinay)\n",
    "print(vinay is arun)\n",
    "print(arun is not vinay)\n",
    "print(vinay is not arun)"
   ]
  },
  {
   "cell_type": "code",
   "execution_count": 96,
   "id": "dbb7e878-1901-4884-a371-1727716cf38e",
   "metadata": {},
   "outputs": [],
   "source": [
    "#Q5 Explain the concept of type casting in python woth example.\n",
    "\n",
    "# type casting in python is a way of converting a value from one data type yo another.\n",
    "#it's like a changing the form of the value so that it can be used in different ways.\n"
   ]
  },
  {
   "cell_type": "code",
   "execution_count": 98,
   "id": "ac91022a-9eab-4ef5-bb1c-0b96183b437b",
   "metadata": {},
   "outputs": [
    {
     "name": "stdout",
     "output_type": "stream",
     "text": [
      "<class 'float'>\n",
      "3\n",
      "<class 'int'>\n"
     ]
    }
   ],
   "source": [
    "number =3.0\n",
    "print(type(number))\n",
    "change=int(number)\n",
    "print(change)\n",
    "print(type(change))"
   ]
  },
  {
   "cell_type": "code",
   "execution_count": 99,
   "id": "cd9a8995-1cf8-4be3-82ad-7c7f156fa802",
   "metadata": {},
   "outputs": [
    {
     "name": "stdout",
     "output_type": "stream",
     "text": [
      "<class 'float'>\n",
      "3.0\n",
      "<class 'str'>\n"
     ]
    }
   ],
   "source": [
    "#float to string\n",
    "\n",
    "number =3.0\n",
    "print(type(number))\n",
    "change=str(number)\n",
    "print(change)\n",
    "print(type(change))"
   ]
  },
  {
   "cell_type": "code",
   "execution_count": 100,
   "id": "1f380a16-1c52-4a4a-b6e3-aa08f867dc92",
   "metadata": {},
   "outputs": [
    {
     "name": "stdout",
     "output_type": "stream",
     "text": [
      "<class 'float'>\n",
      "True\n",
      "<class 'bool'>\n"
     ]
    }
   ],
   "source": [
    "#int to boolen \n",
    "\n",
    "number =3.0\n",
    "print(type(number))\n",
    "change=bool(number)\n",
    "print(change)\n",
    "print(type(change))"
   ]
  },
  {
   "cell_type": "code",
   "execution_count": 103,
   "id": "fee97645-3978-4baa-a1c9-7527ba03b3e7",
   "metadata": {},
   "outputs": [],
   "source": [
    "#Q6 How do conditional statement work in python?illustrate with examples\n",
    "\n",
    "#conditional statement in python allow you toexecute certain blocks of code based on whetherba condition is true or false.\n",
    "#they are crucial for controlling the flow of your program.\n"
   ]
  },
  {
   "cell_type": "code",
   "execution_count": 106,
   "id": "33c591e2-f865-4ec0-8807-81133e7fc1e3",
   "metadata": {},
   "outputs": [
    {
     "name": "stdout",
     "output_type": "stream",
     "text": [
      "x is not greater than 5\n"
     ]
    }
   ],
   "source": [
    "x=1\n",
    "y=6\n",
    "if x >5:\n",
    "    if y >5:\n",
    "        print('both is greater than 5')\n",
    "    else:\n",
    "        print('x is only greater than 5 but y is less than 5')\n",
    "else:\n",
    "    print('x is not greater than 5')\n",
    "        "
   ]
  },
  {
   "cell_type": "code",
   "execution_count": 107,
   "id": "a306a536-62f9-4ff7-ad31-2f4532fa1fda",
   "metadata": {},
   "outputs": [
    {
     "name": "stdout",
     "output_type": "stream",
     "text": [
      "both is greater than 5\n"
     ]
    }
   ],
   "source": [
    "\n",
    "x=7\n",
    "y=6\n",
    "if x >5:\n",
    "    if y >5:\n",
    "        print('both is greater than 5')\n",
    "    else:\n",
    "        print('x is only greater than 5 but y is less than 5')\n",
    "else:\n",
    "    print('x is not greater than 5')\n",
    "        "
   ]
  },
  {
   "cell_type": "code",
   "execution_count": 108,
   "id": "936138a5-3364-41ed-b181-fd37c6ab1f17",
   "metadata": {},
   "outputs": [
    {
     "name": "stdout",
     "output_type": "stream",
     "text": [
      "x is only greater than 5 but y is less than 5\n"
     ]
    }
   ],
   "source": [
    "x=7\n",
    "y=4\n",
    "if x >5:\n",
    "    if y >5:\n",
    "        print('both is greater than 5')\n",
    "    else:\n",
    "        print('x is only greater than 5 but y is less than 5')\n",
    "else:\n",
    "    print('x is not greater than 5')\n",
    "        "
   ]
  },
  {
   "cell_type": "code",
   "execution_count": 110,
   "id": "3cbe783c-f730-464b-a4c5-f75a08c0c3a6",
   "metadata": {},
   "outputs": [],
   "source": [
    "#Q7 Discribe the different types of loopsin python and their use cases with example \n",
    "\n",
    "#in python loops are employed to  sequence of actions or code until a specific condition is fullfilled.\n",
    "#python offers two primary types of loops:for and while loops\n",
    "#for loop are used for iterating over a sequence of elements,\n",
    "#while loops are used for executing code until a specified conditions become false."
   ]
  },
  {
   "cell_type": "code",
   "execution_count": 112,
   "id": "5438208b-7b98-42a6-9d41-e57de4e8a32a",
   "metadata": {},
   "outputs": [
    {
     "name": "stdout",
     "output_type": "stream",
     "text": [
      "abc\n",
      "xyz\n",
      "pqr\n"
     ]
    }
   ],
   "source": [
    "# interating over a list:\n",
    "mates=['abc', 'xyz', 'pqr']\n",
    "for mates in mates:\n",
    "    print(mates)"
   ]
  },
  {
   "cell_type": "code",
   "execution_count": 113,
   "id": "ede712df-7631-4ca5-b5f5-7a5656d5d664",
   "metadata": {},
   "outputs": [
    {
     "name": "stdout",
     "output_type": "stream",
     "text": [
      "0\n",
      "2\n",
      "4\n",
      "6\n",
      "8\n"
     ]
    }
   ],
   "source": [
    "# interating over a range\n",
    "for i in range (0,10,2):\n",
    "    #0,10 is a range while 2 is interval\n",
    "    print(i)"
   ]
  },
  {
   "cell_type": "raw",
   "id": "f9f15fc8-4564-4600-83db-86edf7b08c63",
   "metadata": {},
   "source": [
    "# interating over a string\n",
    "list (range(0,5))\n",
    "for i in range (5):\n",
    "    print(i,end=\"  \")"
   ]
  },
  {
   "cell_type": "code",
   "execution_count": 1,
   "id": "2cb2784b-67ac-40ff-a719-6cf62b63f605",
   "metadata": {},
   "outputs": [
    {
     "name": "stdout",
     "output_type": "stream",
     "text": [
      "1\n",
      "2\n",
      "3\n",
      "4\n",
      "5\n",
      "6\n"
     ]
    }
   ],
   "source": [
    "#basic while loop\n",
    "\n",
    "n=7\n",
    "i=1\n",
    "while i<n :\n",
    "    print(i)\n",
    "    i=i+1"
   ]
  },
  {
   "cell_type": "code",
   "execution_count": 7,
   "id": "4cc8d036-9dca-4fe5-8471-375e6068acf4",
   "metadata": {},
   "outputs": [
    {
     "name": "stdout",
     "output_type": "stream",
     "text": [
      "6\n",
      "7\n",
      "8\n"
     ]
    }
   ],
   "source": [
    "#break statement\n",
    "\n",
    "n=9\n",
    "i=6\n",
    "while i<n:\n",
    "    print(i)\n",
    "    i=i+1\n",
    "    if i==3:\n",
    "        break"
   ]
  },
  {
   "cell_type": "code",
   "execution_count": 10,
   "id": "c52b00f0-8a4a-4ea1-b182-bd80436a142e",
   "metadata": {},
   "outputs": [
    {
     "name": "stdout",
     "output_type": "stream",
     "text": [
      "1\n",
      "2\n",
      "3\n",
      "4\n",
      "5\n",
      "6\n"
     ]
    }
   ],
   "source": [
    "#continue loop\n",
    "\n",
    "n=7\n",
    "i=1\n",
    "while i<n:\n",
    "    print(i)\n",
    "    i=i+1\n",
    "    if i==3:\n",
    "        continue\n",
    "        print(i)\n",
    "\n",
    "\n"
   ]
  },
  {
   "cell_type": "code",
   "execution_count": 15,
   "id": "7e9d0153-f66d-4553-b559-27ee9f4ef1c9",
   "metadata": {},
   "outputs": [
    {
     "name": "stdout",
     "output_type": "stream",
     "text": [
      "0\n",
      "1\n",
      "2\n",
      "this will be executed when for loop ends without a break statement\n"
     ]
    }
   ],
   "source": [
    "#else loop\n",
    "\n",
    "for i in range(3):\n",
    "    print(i)\n",
    "else:\n",
    "        print('this will be executed when for loop ends without a break statement')\n"
   ]
  },
  {
   "cell_type": "code",
   "execution_count": null,
   "id": "b25b1131-27ce-4447-9d2c-1fbb54963510",
   "metadata": {},
   "outputs": [],
   "source": []
  },
  {
   "cell_type": "code",
   "execution_count": null,
   "id": "01644a5c-37b5-4ed9-9471-ccd7060eb228",
   "metadata": {},
   "outputs": [],
   "source": []
  },
  {
   "cell_type": "code",
   "execution_count": null,
   "id": "86b9664b-7eba-47cc-9c1d-a1d6e6b01f72",
   "metadata": {},
   "outputs": [],
   "source": []
  },
  {
   "cell_type": "code",
   "execution_count": null,
   "id": "ae5e3d8c-57fb-48f9-af38-33f5943b5e24",
   "metadata": {},
   "outputs": [],
   "source": []
  }
 ],
 "metadata": {
  "kernelspec": {
   "display_name": "Python 3 (ipykernel)",
   "language": "python",
   "name": "python3"
  },
  "language_info": {
   "codemirror_mode": {
    "name": "ipython",
    "version": 3
   },
   "file_extension": ".py",
   "mimetype": "text/x-python",
   "name": "python",
   "nbconvert_exporter": "python",
   "pygments_lexer": "ipython3",
   "version": "3.10.8"
  }
 },
 "nbformat": 4,
 "nbformat_minor": 5
}
